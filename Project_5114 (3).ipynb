{
 "cells": [
  {
   "cell_type": "code",
   "execution_count": null,
   "id": "b87ad3a5-58ab-4e28-8ec7-af2e6ebd57cd",
   "metadata": {},
   "outputs": [],
   "source": [
    "import pandas as pd\n",
    "import numpy as np\n",
    "import matplotlib.pyplot as plt\n",
    "import seaborn as sns\n",
    "from sklearn.model_selection import train_test_split, GridSearchCV\n",
    "from sklearn.preprocessing import LabelEncoder, StandardScaler\n",
    "from sklearn.metrics import accuracy_score, precision_score, recall_score, f1_score, confusion_matrix\n",
    "from sklearn.linear_model import LogisticRegression\n",
    "from sklearn.ensemble import RandomForestClassifier, GradientBoostingClassifier\n",
    "from sklearn.svm import SVC\n",
    "from sklearn.neighbors import KNeighborsClassifier\n",
    "from sklearn.neural_network import MLPClassifier\n",
    "import shap\n",
    "import xgboost as xgb\n"
   ]
  },
  {
   "cell_type": "code",
   "execution_count": null,
   "id": "e822b03d-ad91-440f-bdb9-f7467191ddb0",
   "metadata": {},
   "outputs": [],
   "source": [
    "file_path = r'C:\\Users\\milto\\OneDrive\\Desktop\\Health Informatics\\Artificial Intelligence in Health Care\\Projects\\Dataset\\GDSC_DATASET.csv'\n",
    "data = pd.read_csv(file_path)\n",
    "data.head()\n"
   ]
  },
  {
   "cell_type": "code",
   "execution_count": null,
   "id": "d4bd3548-ca36-4cf3-8621-9ef32e266666",
   "metadata": {},
   "outputs": [],
   "source": [
    "# Show basic info and null values\n",
    "print(data.info())\n",
    "print(data.isnull().sum())\n",
    "\n",
    "# Visualize null values\n",
    "plt.figure(figsize=(12,6))\n",
    "sns.heatmap(data.isnull(), cbar=False, cmap='viridis')\n",
    "plt.title(\"Missing Data Heatmap\")\n",
    "plt.show()\n"
   ]
  },
  {
   "cell_type": "code",
   "execution_count": null,
   "id": "4d66987f-5a68-4b57-8721-40d3d9990ac0",
   "metadata": {},
   "outputs": [],
   "source": [
    "drop_columns = ['COSMIC_ID', 'CELL_LINE_NAME', 'TCGA_DESC']  # Adjust based on your dataset\n",
    "data = data.drop(columns=[col for col in drop_columns if col in data.columns])"
   ]
  },
  {
   "cell_type": "code",
   "execution_count": null,
   "id": "70eedd7b-6f66-421f-af59-2251d51ac470",
   "metadata": {},
   "outputs": [],
   "source": [
    "# Convert Z_SCORE to binary class: 0 = Sensitive, 1 = Resistant\n",
    "data['Drug_Sensitivity'] = np.where(data['Z_SCORE'] > 0, 1, 0)\n",
    "\n",
    "# Drop Z_SCORE\n",
    "data = data.drop(columns=['Z_SCORE'])"
   ]
  },
  {
   "cell_type": "code",
   "execution_count": null,
   "id": "cc71216f-ecc5-41e9-b0c5-cd7514121ee3",
   "metadata": {},
   "outputs": [],
   "source": [
    "# Drop any remaining rows with missing values\n",
    "data = data.dropna()\n",
    "print(f\"Data shape after dropping NA: {data.shape}\")"
   ]
  },
  {
   "cell_type": "code",
   "execution_count": null,
   "id": "e5c0802d-33f7-4a5b-97dc-e181466843c9",
   "metadata": {},
   "outputs": [],
   "source": [
    "# One-hot encoding for categorical variables\n",
    "data_encoded = pd.get_dummies(data, drop_first=True)\n"
   ]
  },
  {
   "cell_type": "code",
   "execution_count": null,
   "id": "f3a5db65-4a9c-494b-8eb7-4a008c736580",
   "metadata": {},
   "outputs": [],
   "source": [
    "X = data_encoded.drop(columns=['Drug_Sensitivity'])\n",
    "y = data_encoded['Drug_Sensitivity']"
   ]
  },
  {
   "cell_type": "code",
   "execution_count": null,
   "id": "e92f77b9-51dd-4c12-bc89-88d42a8165c4",
   "metadata": {},
   "outputs": [],
   "source": [
    "plt.figure(figsize=(16, 10))\n",
    "sns.heatmap(X.corr(), cmap='coolwarm', linewidths=0.5)\n",
    "plt.title(\"Feature Correlation Heatmap\")\n",
    "plt.show()"
   ]
  },
  {
   "cell_type": "code",
   "execution_count": null,
   "id": "dc665fe9-9a2b-4c14-ae09-e269e649335c",
   "metadata": {},
   "outputs": [],
   "source": [
    "X_train, X_test, y_train, y_test = train_test_split(\n",
    "    X, y, test_size=0.2, random_state=42, stratify=y)\n",
    "print(f\"Training size: {X_train.shape}, Test size: {X_test.shape}\")"
   ]
  },
  {
   "cell_type": "code",
   "execution_count": null,
   "id": "a2bc37ef-6423-4857-8a2f-8174df89553a",
   "metadata": {},
   "outputs": [],
   "source": [
    "# Train Logistic Regression\n",
    "log_model = LogisticRegression(max_iter=100)\n",
    "log_model.fit(X_train, y_train)\n",
    "log_pred = log_model.predict(X_test)\n",
    "\n",
    "# Evaluate performance\n",
    "from sklearn.metrics import classification_report, confusion_matrix\n",
    "\n",
    "print(\"🔍 Logistic Regression Metrics\")\n",
    "print(\"Accuracy:\", accuracy_score(y_test, log_pred))\n",
    "print(\"Precision:\", precision_score(y_test, log_pred))\n",
    "print(\"Recall:\", recall_score(y_test, log_pred))\n",
    "print(\"F1 Score:\", f1_score(y_test, log_pred))\n",
    "print(\"\\nClassification Report:\\n\", classification_report(y_test, log_pred))\n",
    "\n",
    "# Confusion Matrix\n",
    "cm_log = confusion_matrix(y_test, log_pred)\n",
    "sns.heatmap(cm_log, annot=True, fmt='d', cmap='Blues')\n",
    "plt.title(\"Confusion Matrix - Logistic Regression\")\n",
    "plt.xlabel(\"Predicted\")\n",
    "plt.ylabel(\"Actual\")\n",
    "plt.show()"
   ]
  },
  {
   "cell_type": "code",
   "execution_count": null,
   "id": "3307b7ad-3a0f-460b-be38-c61c4d3e1e06",
   "metadata": {},
   "outputs": [],
   "source": [
    "# Train Random Forest\n",
    "rf_model = RandomForestClassifier()\n",
    "rf_model.fit(X_train, y_train)\n",
    "rf_pred = rf_model.predict(X_test)\n",
    "\n",
    "print(\"🔍 Random Forest Metrics\")\n",
    "print(\"Accuracy:\", accuracy_score(y_test, rf_pred))\n",
    "print(\"Precision:\", precision_score(y_test, rf_pred))\n",
    "print(\"Recall:\", recall_score(y_test, rf_pred))\n",
    "print(\"F1 Score:\", f1_score(y_test, rf_pred))\n",
    "print(\"\\nClassification Report:\\n\", classification_report(y_test, rf_pred))\n",
    "\n",
    "cm_rf = confusion_matrix(y_test, rf_pred)\n",
    "sns.heatmap(cm_rf, annot=True, fmt='d', cmap='Greens')\n",
    "plt.title(\"Confusion Matrix - Random Forest\")\n",
    "plt.xlabel(\"Predicted\")\n",
    "plt.ylabel(\"Actual\")\n",
    "plt.show()"
   ]
  },
  {
   "cell_type": "code",
   "execution_count": null,
   "id": "b929ca73-5c8f-4a6b-8bdf-7732e542c586",
   "metadata": {},
   "outputs": [],
   "source": [
    "# Train XGBoost\n",
    "xgb_model = xgb.XGBClassifier(use_label_encoder=False, eval_metric='logloss')\n",
    "xgb_model.fit(X_train, y_train)\n",
    "xgb_pred = xgb_model.predict(X_test)\n",
    "\n",
    "print(\"🔍 XGBoost Metrics\")\n",
    "print(\"Accuracy:\", accuracy_score(y_test, xgb_pred))\n",
    "print(\"Precision:\", precision_score(y_test, xgb_pred))\n",
    "print(\"Recall:\", recall_score(y_test, xgb_pred))\n",
    "print(\"F1 Score:\", f1_score(y_test, xgb_pred))\n",
    "print(\"\\nClassification Report:\\n\", classification_report(y_test, xgb_pred))\n",
    "\n",
    "cm_xgb = confusion_matrix(y_test, xgb_pred)\n",
    "sns.heatmap(cm_xgb, annot=True, fmt='d', cmap='Oranges')\n",
    "plt.title(\"Confusion Matrix - XGBoost\")\n",
    "plt.xlabel(\"Predicted\")\n",
    "plt.ylabel(\"Actual\")\n",
    "plt.show()\n"
   ]
  },
  {
   "cell_type": "code",
   "execution_count": null,
   "id": "b0d145fd-5bab-4be5-8b1d-629f3d770c25",
   "metadata": {},
   "outputs": [],
   "source": [
    "# Train KNN\n",
    "knn_model = KNeighborsClassifier()\n",
    "knn_model.fit(X_train, y_train)\n",
    "knn_pred = knn_model.predict(X_test)\n",
    "\n",
    "print(\"🔍 KNN Metrics\")\n",
    "print(\"Accuracy:\", accuracy_score(y_test, knn_pred))\n",
    "print(\"Precision:\", precision_score(y_test, knn_pred))\n",
    "print(\"Recall:\", recall_score(y_test, knn_pred))\n",
    "print(\"F1 Score:\", f1_score(y_test, knn_pred))\n",
    "print(\"\\nClassification Report:\\n\", classification_report(y_test, knn_pred))\n",
    "\n",
    "cm_knn = confusion_matrix(y_test, knn_pred)\n",
    "sns.heatmap(cm_knn, annot=True, fmt='d', cmap='Reds')\n",
    "plt.title(\"Confusion Matrix - KNN\")\n",
    "plt.xlabel(\"Predicted\")\n",
    "plt.ylabel(\"Actual\")\n",
    "plt.show()"
   ]
  },
  {
   "cell_type": "code",
   "execution_count": null,
   "id": "c65a2e67-dd1c-48fb-9b8c-c7de1d3a41e8",
   "metadata": {},
   "outputs": [],
   "source": []
  }
 ],
 "metadata": {
  "kernelspec": {
   "display_name": "Python [conda env:base] *",
   "language": "python",
   "name": "conda-base-py"
  },
  "language_info": {
   "codemirror_mode": {
    "name": "ipython",
    "version": 3
   },
   "file_extension": ".py",
   "mimetype": "text/x-python",
   "name": "python",
   "nbconvert_exporter": "python",
   "pygments_lexer": "ipython3",
   "version": "3.12.7"
  }
 },
 "nbformat": 4,
 "nbformat_minor": 5
}
